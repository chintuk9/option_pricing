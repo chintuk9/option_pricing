{
 "cells": [
  {
   "cell_type": "code",
   "execution_count": 1,
   "id": "4ba0bb8f",
   "metadata": {},
   "outputs": [],
   "source": [
    "# Importing the Black-Scholes (BS) model from the mibian library\n",
    "from mibian import BS\n",
    "\n",
    "# Importing the 'warnings' module to filter out warnings\n",
    "import warnings\n",
    "\n",
    "# Filtering out warnings to improve code readability\n",
    "warnings.filterwarnings('ignore')\n",
    "\n",
    "# Function to calculate call and put prices\n",
    "\n",
    "def calculate_option_prices(stock_price, strike_price, interest_rate, days_to_expiration, volatility, option_type):\n",
    "    # Creating a BS object with provided option parameters\n",
    "    option = BS([stock_price, strike_price, interest_rate,\n",
    "                days_to_expiration], volatility=volatility)\n",
    "\n",
    "    # Checking the option type and calculating the corresponding option price\n",
    "    if option_type.lower() == 'call':\n",
    "        price = option.callPrice\n",
    "    elif option_type.lower() == 'put':\n",
    "        price = option.putPrice\n",
    "    else:\n",
    "        # Raising an error for an invalid option type\n",
    "        raise ValueError(\"Invalid option type. Use 'call' or 'put'.\")\n",
    "\n",
    "    # Rounding the calculated option price to 3 decimals\n",
    "    return round(price, 3)"
   ]
  },
  {
   "cell_type": "code",
   "execution_count": 9,
   "id": "5889b48a",
   "metadata": {},
   "outputs": [
    {
     "name": "stdout",
     "output_type": "stream",
     "text": [
      "Call Option Price: 124.713\n"
     ]
    }
   ],
   "source": [
    "# Example usage\n",
    "stock_price = 24430\n",
    "strike_price = 24700\n",
    "interest_rate = 10\n",
    "days_to_expiration = 9\n",
    "Implied_volatility = 13.87  # You may need to adjust this value based on market conditions\n",
    "option_type = 'call'\n",
    "\n",
    "call_price = calculate_option_prices(stock_price, strike_price, interest_rate, days_to_expiration, Implied_volatility, option_type)\n",
    "print(f\"Call Option Price: {call_price}\")"
   ]
  },
  {
   "cell_type": "code",
   "execution_count": 8,
   "id": "61b82fa9",
   "metadata": {},
   "outputs": [
    {
     "name": "stdout",
     "output_type": "stream",
     "text": [
      "put Option Price: 118.751\n"
     ]
    }
   ],
   "source": [
    "\n",
    "# Example usage\n",
    "stock_price = 24430\n",
    "strike_price = 24200\n",
    "interest_rate = 10\n",
    "days_to_expiration = 9\n",
    "Implied_volatility = 15.5  # You may need to adjust this value based on market conditions\n",
    "option_type = 'put'\n",
    "\n",
    "call_price = calculate_option_prices(stock_price, strike_price, interest_rate, days_to_expiration, Implied_volatility, option_type)\n",
    "print(f\"put Option Price: {call_price}\")"
   ]
  },
  {
   "cell_type": "code",
   "execution_count": null,
   "id": "6b101e34",
   "metadata": {},
   "outputs": [],
   "source": []
  }
 ],
 "metadata": {
  "kernelspec": {
   "display_name": "Python 3 (ipykernel)",
   "language": "python",
   "name": "python3"
  },
  "language_info": {
   "codemirror_mode": {
    "name": "ipython",
    "version": 3
   },
   "file_extension": ".py",
   "mimetype": "text/x-python",
   "name": "python",
   "nbconvert_exporter": "python",
   "pygments_lexer": "ipython3",
   "version": "3.9.19"
  }
 },
 "nbformat": 4,
 "nbformat_minor": 5
}
